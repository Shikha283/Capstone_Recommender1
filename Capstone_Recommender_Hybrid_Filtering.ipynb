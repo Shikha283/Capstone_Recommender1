{
 "cells": [
  {
   "cell_type": "code",
   "execution_count": 1,
   "id": "c69838e2",
   "metadata": {},
   "outputs": [],
   "source": [
    "#Import all the important files \n",
    "import numpy as np\n",
    "import pandas as pd\n",
    "import seaborn as sns\n",
    "import matplotlib.pyplot as plt\n",
    "from datetime import date\n",
    "from sklearn.feature_extraction.text import TfidfVectorizer\n",
    "from sklearn.metrics.pairwise import linear_kernel\n",
    "from sklearn.metrics.pairwise import cosine_similarity\n",
    "from sklearn.preprocessing import LabelEncoder"
   ]
  },
  {
   "cell_type": "code",
   "execution_count": 2,
   "id": "041dcfcb",
   "metadata": {},
   "outputs": [],
   "source": [
    "#creating a data frame from CSV\n",
    "customer = pd.read_csv(\"Customer.csv\")\n",
    "prod_cat_info = pd.read_csv(\"prod_cat_info.csv\")\n",
    "transactions=pd.read_csv(\"Transactions.csv\")\n"
   ]
  },
  {
   "cell_type": "code",
   "execution_count": 3,
   "id": "93d55de3",
   "metadata": {},
   "outputs": [
    {
     "data": {
      "text/plain": [
       "(5647, 4)"
      ]
     },
     "execution_count": 3,
     "metadata": {},
     "output_type": "execute_result"
    }
   ],
   "source": [
    "customer.shape"
   ]
  },
  {
   "cell_type": "code",
   "execution_count": 4,
   "id": "9e171aa5",
   "metadata": {},
   "outputs": [
    {
     "data": {
      "text/plain": [
       "(23, 4)"
      ]
     },
     "execution_count": 4,
     "metadata": {},
     "output_type": "execute_result"
    }
   ],
   "source": [
    "prod_cat_info.shape"
   ]
  },
  {
   "cell_type": "code",
   "execution_count": 5,
   "id": "53d5e6a0",
   "metadata": {},
   "outputs": [
    {
     "data": {
      "text/plain": [
       "(23053, 10)"
      ]
     },
     "execution_count": 5,
     "metadata": {},
     "output_type": "execute_result"
    }
   ],
   "source": [
    "transactions.shape"
   ]
  },
  {
   "cell_type": "code",
   "execution_count": 6,
   "id": "8131996d",
   "metadata": {},
   "outputs": [],
   "source": [
    "# changing column label to similar in all tables\n",
    "customer.rename(columns = {'customer_Id':'cust_id'}, inplace = True)\n"
   ]
  },
  {
   "cell_type": "code",
   "execution_count": 7,
   "id": "3230ad5a",
   "metadata": {},
   "outputs": [
    {
     "name": "stdout",
     "output_type": "stream",
     "text": [
      "cust_id               int64\n",
      "DOB          datetime64[ns]\n",
      "Gender               object\n",
      "city_code             int64\n",
      "dtype: object\n"
     ]
    }
   ],
   "source": [
    "# removing row if customer_id/prod_sub_cat_code is null from customer and prod_cat_info dataframe\n",
    "customer.dropna(subset=['cust_id'], inplace=True)\n",
    "prod_cat_info.dropna(subset=['prod_sub_cat_code'],inplace=True)\n",
    "customer['Gender'].fillna('F', inplace=True)\n",
    "\n",
    "# Convert 'DOB' column to datetime with the correct format\n",
    "customer['DOB'] = pd.to_datetime(customer['DOB'], format='%d-%m-%Y')\n",
    "\n",
    "# Fill missing values in 'DOB' with a default date\n",
    "customer['DOB'].fillna(pd.to_datetime('1900-01-01'), inplace=True)\n",
    "\n",
    "# Rest of your code\n",
    "customer['city_code'] =abs (pd.to_numeric(customer['city_code'], errors='coerce').fillna(-1).astype(int))\n",
    "\n",
    "# Verify the data types\n",
    "print(customer.dtypes)\n",
    "\n",
    "\n"
   ]
  },
  {
   "cell_type": "code",
   "execution_count": 8,
   "id": "a716a1e2",
   "metadata": {},
   "outputs": [],
   "source": [
    "# creating super table by joining customer and prod_cat_info to transactions\n",
    "df1=transactions.merge(customer,how='left',on='cust_id')\n",
    "transaction_master_bi=pd.merge(left=df1, right=prod_cat_info,how='left',left_on=['prod_cat_code','prod_subcat_code'],right_on=['prod_cat_code','prod_sub_cat_code'])\n",
    "transaction_master_bi.drop(columns='prod_sub_cat_code',axis=1,inplace=True)\n"
   ]
  },
  {
   "cell_type": "code",
   "execution_count": 9,
   "id": "a059d7ec",
   "metadata": {},
   "outputs": [
    {
     "name": "stderr",
     "output_type": "stream",
     "text": [
      "/var/folders/4x/bhr05fqs1xq2l403bnmgyvf00000gn/T/ipykernel_90521/2085579646.py:2: UserWarning: The argument 'infer_datetime_format' is deprecated and will be removed in a future version. A strict version of it is now the default, see https://pandas.pydata.org/pdeps/0004-consistent-to-datetime-parsing.html. You can safely remove this argument.\n",
      "  transaction_master_bi['tran_date'] = pd.to_datetime(transaction_master_bi['tran_date'],infer_datetime_format=True)\n",
      "/var/folders/4x/bhr05fqs1xq2l403bnmgyvf00000gn/T/ipykernel_90521/2085579646.py:2: UserWarning: Could not infer format, so each element will be parsed individually, falling back to `dateutil`. To ensure parsing is consistent and as-expected, please specify a format.\n",
      "  transaction_master_bi['tran_date'] = pd.to_datetime(transaction_master_bi['tran_date'],infer_datetime_format=True)\n"
     ]
    }
   ],
   "source": [
    "# correceting data type of numeric and date columns\n",
    "transaction_master_bi['tran_date'] = pd.to_datetime(transaction_master_bi['tran_date'],infer_datetime_format=True)\n",
    "transaction_master_bi['Qty']=abs(transaction_master_bi['Qty'])\n",
    "transaction_master_bi['Rate']=abs(transaction_master_bi['Rate'])\n",
    "transaction_master_bi['total_amt']=abs(transaction_master_bi['total_amt'])"
   ]
  },
  {
   "cell_type": "code",
   "execution_count": 10,
   "id": "5a822aad",
   "metadata": {},
   "outputs": [
    {
     "name": "stdout",
     "output_type": "stream",
     "text": [
      "<class 'pandas.core.frame.DataFrame'>\n",
      "RangeIndex: 23053 entries, 0 to 23052\n",
      "Data columns (total 15 columns):\n",
      " #   Column            Non-Null Count  Dtype         \n",
      "---  ------            --------------  -----         \n",
      " 0   transaction_id    23053 non-null  int64         \n",
      " 1   cust_id           23053 non-null  int64         \n",
      " 2   tran_date         23053 non-null  datetime64[ns]\n",
      " 3   prod_subcat_code  23053 non-null  int64         \n",
      " 4   prod_cat_code     23053 non-null  int64         \n",
      " 5   Qty               23053 non-null  int64         \n",
      " 6   Rate              23053 non-null  int64         \n",
      " 7   Tax               23053 non-null  float64       \n",
      " 8   total_amt         23053 non-null  float64       \n",
      " 9   Store_type        23053 non-null  object        \n",
      " 10  DOB               23053 non-null  datetime64[ns]\n",
      " 11  Gender            23053 non-null  object        \n",
      " 12  city_code         23053 non-null  int64         \n",
      " 13  prod_cat          23053 non-null  object        \n",
      " 14  prod_subcat       23053 non-null  object        \n",
      "dtypes: datetime64[ns](2), float64(2), int64(7), object(4)\n",
      "memory usage: 2.6+ MB\n"
     ]
    }
   ],
   "source": [
    "transaction_master_bi.info()"
   ]
  },
  {
   "cell_type": "code",
   "execution_count": 11,
   "id": "a49ca9a4",
   "metadata": {},
   "outputs": [],
   "source": [
    "# handling null values\n",
    "transaction_master_bi.dropna(subset=['transaction_id','cust_id','prod_subcat_code','prod_cat_code','tran_date'],inplace=True)\n",
    "transaction_master_bi['Store_type'].fillna('NA',inplace=True)\n",
    "transaction_master_bi['Qty'].fillna(1,inplace=True)\n",
    "transaction_master_bi['Qty'] = transaction_master_bi['Qty'].apply(lambda x: 1 if x == 0 else x)\n",
    "transaction_master_bi['Rate'].fillna(transaction_master_bi['Rate'].mean(),inplace=True)"
   ]
  },
  {
   "cell_type": "code",
   "execution_count": 12,
   "id": "3c1a38d0",
   "metadata": {},
   "outputs": [
    {
     "data": {
      "text/html": [
       "<div>\n",
       "<style scoped>\n",
       "    .dataframe tbody tr th:only-of-type {\n",
       "        vertical-align: middle;\n",
       "    }\n",
       "\n",
       "    .dataframe tbody tr th {\n",
       "        vertical-align: top;\n",
       "    }\n",
       "\n",
       "    .dataframe thead th {\n",
       "        text-align: right;\n",
       "    }\n",
       "</style>\n",
       "<table border=\"1\" class=\"dataframe\">\n",
       "  <thead>\n",
       "    <tr style=\"text-align: right;\">\n",
       "      <th></th>\n",
       "      <th>transaction_id</th>\n",
       "      <th>cust_id</th>\n",
       "      <th>tran_date</th>\n",
       "      <th>prod_subcat_code</th>\n",
       "      <th>prod_cat_code</th>\n",
       "      <th>Qty</th>\n",
       "      <th>Rate</th>\n",
       "      <th>Tax</th>\n",
       "      <th>total_amt</th>\n",
       "      <th>Store_type</th>\n",
       "      <th>DOB</th>\n",
       "      <th>Gender</th>\n",
       "      <th>city_code</th>\n",
       "      <th>prod_cat</th>\n",
       "      <th>prod_subcat</th>\n",
       "    </tr>\n",
       "  </thead>\n",
       "  <tbody>\n",
       "    <tr>\n",
       "      <th>20540</th>\n",
       "      <td>75163718042</td>\n",
       "      <td>274186</td>\n",
       "      <td>2011-05-30</td>\n",
       "      <td>3</td>\n",
       "      <td>2</td>\n",
       "      <td>4</td>\n",
       "      <td>878</td>\n",
       "      <td>368.76</td>\n",
       "      <td>3880.76</td>\n",
       "      <td>MBR</td>\n",
       "      <td>1982-04-20</td>\n",
       "      <td>M</td>\n",
       "      <td>3</td>\n",
       "      <td>Footwear</td>\n",
       "      <td>Women</td>\n",
       "    </tr>\n",
       "  </tbody>\n",
       "</table>\n",
       "</div>"
      ],
      "text/plain": [
       "       transaction_id  cust_id  tran_date  prod_subcat_code  prod_cat_code  \\\n",
       "20540     75163718042   274186 2011-05-30                 3              2   \n",
       "\n",
       "       Qty  Rate     Tax  total_amt Store_type        DOB Gender  city_code  \\\n",
       "20540    4   878  368.76    3880.76        MBR 1982-04-20      M          3   \n",
       "\n",
       "       prod_cat prod_subcat  \n",
       "20540  Footwear       Women  "
      ]
     },
     "execution_count": 12,
     "metadata": {},
     "output_type": "execute_result"
    }
   ],
   "source": [
    "transaction_master_bi.sample()"
   ]
  },
  {
   "cell_type": "code",
   "execution_count": 13,
   "id": "e113686d",
   "metadata": {},
   "outputs": [],
   "source": [
    "avg_tax=transaction_master_bi['Tax'].mean()\n",
    "amount_before_tax=transaction_master_bi['Rate']*transaction_master_bi['Qty']\n",
    "avg_amount=amount_before_tax.mean()\n",
    "avg_tax_rate=avg_tax/avg_amount\n",
    "avg_tax=avg_tax_rate*avg_amount\n",
    "transaction_master_bi['Tax'].fillna(avg_tax,inplace=True)\n",
    "total_amount=transaction_master_bi['Rate']*transaction_master_bi['Qty']+transaction_master_bi['Tax']\n",
    "avg_total_amount=total_amount.mean()\n",
    "transaction_master_bi['total_amt'].fillna(avg_total_amount,inplace=True)"
   ]
  },
  {
   "cell_type": "code",
   "execution_count": 14,
   "id": "a784b1e3",
   "metadata": {},
   "outputs": [],
   "source": [
    "ftd=transaction_master_bi.groupby('cust_id').min()['tran_date']\n",
    "transaction_master_bi['First Purchase Date']=transaction_master_bi.apply(lambda row: ftd.loc[row['cust_id']], axis=1)"
   ]
  },
  {
   "cell_type": "code",
   "execution_count": 15,
   "id": "61ccf413",
   "metadata": {},
   "outputs": [
    {
     "name": "stdout",
     "output_type": "stream",
     "text": [
      "First Purchase Date    datetime64[ns]\n",
      "DOB                    datetime64[ns]\n",
      "dtype: object\n"
     ]
    }
   ],
   "source": [
    "from datetime import date\n",
    "today = date.today()\n",
    "\n",
    "# Convert 'First Purchase Date' and 'DOB' to datetime format if not already\n",
    "transaction_master_bi['First Purchase Date'] = pd.to_datetime(transaction_master_bi['First Purchase Date'])\n",
    "transaction_master_bi['DOB'] = pd.to_datetime(transaction_master_bi['DOB'])\n",
    "\n",
    "# Print data types of relevant columns\n",
    "print(transaction_master_bi[['First Purchase Date', 'DOB']].dtypes)\n",
    "\n",
    "# Calculate 'user_age_in_system_month'\n",
    "transaction_master_bi['user_age_in_system_month'] = (today - transaction_master_bi['First Purchase Date'].dt.date) / np.timedelta64(1, 'm')\n",
    "\n",
    "# Calculate 'user_age_in_year'\n",
    "transaction_master_bi['user_age_in_year'] = (today - transaction_master_bi['DOB'].dt.date) / np.timedelta64(1, 'D')/365\n",
    "transaction_master_bi['user_age_in_year'] = pd.to_numeric(transaction_master_bi['user_age_in_year'])\n",
    "\n",
    "# Group by 'cust_id' and count the total transactions\n",
    "tot_txn = transaction_master_bi.groupby('cust_id').count()['transaction_id']\n",
    "\n",
    "# Create a new column 'lifetime_txn' using the total transactions\n",
    "transaction_master_bi['lifetime_txn']=transaction_master_bi.apply(lambda row: tot_txn.loc[row['cust_id']], axis=1)\n",
    "df=transaction_master_bi[['cust_id','prod_cat','Qty','total_amt']]\n",
    "\n"
   ]
  },
  {
   "cell_type": "code",
   "execution_count": 16,
   "id": "6675de14",
   "metadata": {},
   "outputs": [
    {
     "name": "stderr",
     "output_type": "stream",
     "text": [
      "/var/folders/4x/bhr05fqs1xq2l403bnmgyvf00000gn/T/ipykernel_90521/2398752847.py:1: SettingWithCopyWarning: \n",
      "A value is trying to be set on a copy of a slice from a DataFrame.\n",
      "Try using .loc[row_indexer,col_indexer] = value instead\n",
      "\n",
      "See the caveats in the documentation: https://pandas.pydata.org/pandas-docs/stable/user_guide/indexing.html#returning-a-view-versus-a-copy\n",
      "  df['avg_price']=df.apply(lambda row: row['total_amt'] / row['Qty'], axis=1)\n"
     ]
    }
   ],
   "source": [
    "df['avg_price']=df.apply(lambda row: row['total_amt'] / row['Qty'], axis=1)\n",
    "df1=df.groupby(['cust_id','prod_cat']).mean()['avg_price'].to_frame().reset_index()\n",
    "df1.rename(columns = {'avg_price':'user_aov'}, inplace = True)\n",
    "transaction_master_bi=pd.merge(left=transaction_master_bi, right=df1,how='left',left_on=['cust_id','prod_cat'],right_on=['cust_id','prod_cat'])\n"
   ]
  },
  {
   "cell_type": "code",
   "execution_count": 17,
   "id": "1371421c",
   "metadata": {},
   "outputs": [],
   "source": [
    "age_ranges = pd.IntervalIndex.from_tuples([(0, 18), (19, 25), (26, 35), (36, 120)])\n",
    "transaction_master_bi[\"age_range\"] = pd.cut(transaction_master_bi[\"user_age_in_year\"], age_ranges, labels=[\"<18\", \"18-25\", \"25-35\", \">35\"])"
   ]
  },
  {
   "cell_type": "code",
   "execution_count": 18,
   "id": "1ea32a7b",
   "metadata": {},
   "outputs": [],
   "source": [
    "transaction_master_bi[\"product_code\"]=transaction_master_bi.apply(lambda row: str(row['prod_cat']) +' '+ str(row['prod_subcat']), axis=1)"
   ]
  },
  {
   "cell_type": "code",
   "execution_count": 19,
   "id": "c54c7f45",
   "metadata": {},
   "outputs": [],
   "source": [
    "Product_purchase=transaction_master_bi.groupby(['prod_subcat','prod_cat']).agg({'transaction_id': 'nunique','cust_id': 'nunique','Qty':'sum','user_aov':'mean'}).reset_index()\n",
    "Product_purchase.rename(columns = {'transaction_id':'unique_orders','cust_id':'users','Qty':'tot_orders','user_aov':'unit_price'},inplace=True)\n",
    "Product_Master_bi=pd.merge(left=prod_cat_info, right=Product_purchase,how='left',left_on=['prod_cat','prod_subcat'],right_on=['prod_cat','prod_subcat'])\n",
    "Product_Master_bi['product_code']=Product_Master_bi.apply(lambda row: str(row['prod_cat']) +' '+ str(row['prod_subcat']), axis=1)\n",
    "platform_orders=sum(Product_Master_bi['tot_orders'])\n",
    "Product_Master_bi['order_percentage']=Product_Master_bi['tot_orders']/platform_orders"
   ]
  },
  {
   "cell_type": "code",
   "execution_count": 20,
   "id": "6b1721c0",
   "metadata": {},
   "outputs": [],
   "source": [
    "customer_purchase=transaction_master_bi.groupby(['cust_id','prod_cat','prod_subcat']).agg({'transaction_id': 'nunique','Qty':'sum','total_amt':'mean','user_aov':'mean'}).reset_index()\n",
    "customer_purchase.rename(columns = {'transaction_id':'unique_orders','Qty':'tot_orders','total_amt':'aov','user_aov':'unit_price'},inplace=True)\n",
    "customer_purchase['product_code']=customer_purchase.apply(lambda row: str(row['prod_cat']) +' '+ str(row['prod_subcat']), axis=1)"
   ]
  },
  {
   "cell_type": "code",
   "execution_count": 21,
   "id": "1531ee0f",
   "metadata": {},
   "outputs": [],
   "source": [
    "from sklearn.feature_extraction.text import TfidfVectorizer\n",
    "from sklearn.metrics.pairwise import linear_kernel\n",
    "Product_Master_bi['content'] = Product_Master_bi['product_code']\n",
    "# Create TF-IDF matrix\n",
    "tfidf_vectorizer = TfidfVectorizer(stop_words='english')\n",
    "tfidf_matrix = tfidf_vectorizer.fit_transform(Product_Master_bi['content'])\n",
    "\n",
    "# Compute the cosine similarity\n",
    "cosine_sim = linear_kernel(tfidf_matrix, tfidf_matrix)\n",
    "product_mapping = {}\n",
    "for idx, row in Product_Master_bi.iterrows():\n",
    "    product_mapping[(row['product_code'])] = idx"
   ]
  },
  {
   "cell_type": "code",
   "execution_count": 22,
   "id": "cfed0713",
   "metadata": {},
   "outputs": [],
   "source": [
    "# Function to get recommendations\n",
    "def get_similar_products(product_info, cosine_sim=cosine_sim):\n",
    "    product_indices = [product_mapping.get((product_code), -1) for product_code in product_info]\n",
    "    product_indices = [idx for idx in product_indices if idx != -1]  # Remove -1 (not found) from the list\n",
    "    all_recommendations = []\n",
    "\n",
    "    for product_index in product_indices:\n",
    "        sim_scores = list(enumerate(cosine_sim[product_index]))\n",
    "        sim_scores = sorted(sim_scores, key=lambda x: x[1], reverse=True)\n",
    "        sim_scores = sim_scores[0:]  # Get the top 3 similar products (excluding itself)\n",
    "        indices = [index for index, _ in sim_scores]\n",
    "        recommendations = Product_Master_bi.iloc[indices].copy()\n",
    "        recommendations['sim_score'] = [sim_score for _, sim_score in sim_scores]  # Add sim_score column\n",
    "        all_recommendations.append(recommendations)\n",
    "    final_df=pd.concat(all_recommendations, ignore_index=True)\n",
    "    net_score=final_df.groupby('product_code').sum()['sim_score'].to_frame().reset_index()\n",
    "    recom=pd.merge(left=final_df, right=net_score,how='left',left_on=['product_code'],right_on=['product_code'])\n",
    "    recom.drop(columns='sim_score_x',inplace=True)\n",
    "    recom.drop_duplicates()\n",
    "    return recom"
   ]
  },
  {
   "cell_type": "code",
   "execution_count": 23,
   "id": "75631c63",
   "metadata": {},
   "outputs": [],
   "source": [
    "def user_recommendation(user_id,top_n=10):\n",
    "    user_data=customer_purchase[customer_purchase['cust_id']==user_id]\n",
    "    user_unit_price_avg=sum(user_data['aov']*user_data['unique_orders'])/sum(user_data['tot_orders'])\n",
    "    user_products=list(user_data['product_code'])\n",
    "    similar_products=get_similar_products(user_products, cosine_sim=cosine_sim)\n",
    "    similar_products['product_score']=similar_products['order_percentage']+similar_products['sim_score_y']\n",
    "    similar_products['product_score'] = similar_products.apply(lambda row: row['product_score'] + 0.1 if (row['unit_price'] >=0.9*user_unit_price_avg) & (row['unit_price']<=1.1*user_unit_price_avg) else row['product_score'], axis=1)\n",
    "    sorted_similar_products = similar_products.sort_values(by='product_score',ascending=False)\n",
    "    recommended_products=sorted_similar_products[['product_code','product_score']]\n",
    "    return recommended_products.head(top_n)\n"
   ]
  },
  {
   "cell_type": "code",
   "execution_count": 24,
   "id": "ca176770",
   "metadata": {},
   "outputs": [],
   "source": [
    "from sklearn.metrics.pairwise import cosine_similarity\n",
    "from sklearn.preprocessing import LabelEncoder\n",
    "\n",
    "label_encoder = LabelEncoder()\n",
    "transaction_master_bi['prod_code'] = label_encoder.fit_transform(transaction_master_bi['product_code'])\n",
    "transaction_master_bi['sex'] = label_encoder.fit_transform(transaction_master_bi['Gender'])\n",
    "transaction_master_bi['age_split'] = label_encoder.fit_transform(transaction_master_bi['age_range'])\n",
    "transaction_master_bi['city'] = label_encoder.fit_transform(transaction_master_bi['city_code'])\n",
    "edf=transaction_master_bi[['product_code','prod_code']].drop_duplicates()\n",
    "# Create user-item matrix with additional features\n",
    "user_item_matrix = pd.pivot_table(transaction_master_bi, values='Qty', index=['cust_id','sex', 'age_split', 'city'],columns='prod_code',aggfunc=\"sum\", fill_value=0,)\n",
    "user_item_matrix.fillna(0, inplace=True)  # Fill missing values\n",
    "\n",
    "# Calculate cosine similarity between users\n",
    "user_similarity = cosine_similarity(user_item_matrix)\n",
    "cust_ids = user_item_matrix.index.get_level_values('cust_id').unique()\n",
    "user_similarity_df = pd.DataFrame(user_similarity, index=cust_ids, columns=cust_ids)\n",
    "\n",
    "\n",
    "# Function to get recommendations for a given user\n",
    "def get_recommendations(user_id, user_similarity_matrix, user_item_matrix, top_n=10):\n",
    "    similar_users = user_similarity_matrix[user_id]\n",
    "    sm_df = similar_users.to_frame().sort_values(by=[user_id], ascending=False).reset_index()\n",
    "    sm_df = sm_df[(sm_df[user_id] != 0) & (sm_df['cust_id'] != user_id)]\n",
    "\n",
    "    product_scores = {}\n",
    "\n",
    "    for other_user in sm_df['cust_id']:\n",
    "        other_user_items = user_item_matrix.loc[other_user]\n",
    "        relevant_items = other_user_items.columns[other_user_items.any()]\n",
    "\n",
    "        for item in relevant_items:\n",
    "            product_scores[item] = product_scores.get(item, 0) + other_user_items[item].sum() * sm_df.loc[sm_df['cust_id'] == other_user, [user_id]].values[0]\n",
    "\n",
    "    user_items = user_item_matrix.loc[user_id]\n",
    "    keys_to_remove = user_items.columns[user_items.any()]\n",
    "\n",
    "    # Remove items already purchased by the user\n",
    "    product_scores = {key: value for key, value in product_scores.items()}# if key not in keys_to_remove}\n",
    "\n",
    "    # Create DataFrame from product_scores\n",
    "    s = pd.DataFrame(list(product_scores.items()), columns=['prod_code', 'score'])\n",
    "    s = s.sort_values(by='score', ascending=False).head(top_n)\n",
    "\n",
    "    # Merge with edf to get additional product information\n",
    "    recom = pd.merge(s, edf, on='prod_code', how='left').drop(columns='prod_code', axis=1)\n",
    "    recom['score']=recom['score'].astype(int)\n",
    "    return recom\n",
    "user_id =274609\n",
    "Recommendations=get_recommendations(user_id, user_similarity_df, user_item_matrix,top_n=10)\n",
    "Recommendations['score']=Recommendations['score'].astype(int)\n",
    "recom=Recommendations[\"product_code\"]\n"
   ]
  },
  {
   "cell_type": "code",
   "execution_count": 25,
   "id": "b8bc8d68",
   "metadata": {},
   "outputs": [
    {
     "data": {
      "text/plain": [
       "0            Electronics Mobiles\n",
       "1                 Books Academic\n",
       "2    Electronics Audio and video\n",
       "3              Books Non-Fiction\n",
       "4                  Clothing Kids\n",
       "5                      Books DIY\n",
       "6          Home and kitchen Bath\n",
       "7                 Clothing Women\n",
       "8                  Books Fiction\n",
       "9                     Bags Women\n",
       "Name: product_code, dtype: object"
      ]
     },
     "execution_count": 25,
     "metadata": {},
     "output_type": "execute_result"
    }
   ],
   "source": [
    "recom"
   ]
  },
  {
   "cell_type": "code",
   "execution_count": 26,
   "id": "e670246c",
   "metadata": {},
   "outputs": [],
   "source": [
    "def hybrid_method_recom(user_id,top_n):\n",
    "    product_recommendation_content=user_recommendation(user_id,top_n).reset_index()\n",
    "    product_recommendation_collabarative=get_recommendations(user_id,user_similarity_df,user_item_matrix,top_n)\n",
    "    product_recommendation_content.drop(columns='index',axis=1,inplace=True)\n",
    "    product_recommendation_collabarative.rename(columns = {'score':'product_score'}, inplace = True)\n",
    "    n1=sum(product_recommendation_collabarative['product_score'])\n",
    "    n2=sum(product_recommendation_content['product_score'])\n",
    "    product_recommendation_content['normalised_score']=product_recommendation_content['product_score']/n2\n",
    "    product_recommendation_collabarative['normalised_score']=product_recommendation_collabarative['product_score']/n1\n",
    "    combined = pd.merge(product_recommendation_collabarative, product_recommendation_content, on='product_code', how='outer')\n",
    "    combined.fillna(0,inplace=True)\n",
    "    combined.drop(columns=['product_score_y','product_score_x'],axis=1,inplace=True)\n",
    "    combined.drop_duplicates(inplace=True)\n",
    "    combined['final_score']=combined['normalised_score_x']*0.6+combined['normalised_score_y']*0.4\n",
    "    all_recom=combined.sort_values(by='final_score',ascending=False)\n",
    "    recommendations=all_recom.head(top_n)\n",
    "    return recommendations"
   ]
  },
  {
   "cell_type": "code",
   "execution_count": 27,
   "id": "30398315",
   "metadata": {},
   "outputs": [
    {
     "data": {
      "text/html": [
       "<div>\n",
       "<style scoped>\n",
       "    .dataframe tbody tr th:only-of-type {\n",
       "        vertical-align: middle;\n",
       "    }\n",
       "\n",
       "    .dataframe tbody tr th {\n",
       "        vertical-align: top;\n",
       "    }\n",
       "\n",
       "    .dataframe thead th {\n",
       "        text-align: right;\n",
       "    }\n",
       "</style>\n",
       "<table border=\"1\" class=\"dataframe\">\n",
       "  <thead>\n",
       "    <tr style=\"text-align: right;\">\n",
       "      <th></th>\n",
       "      <th>product_code</th>\n",
       "      <th>normalised_score_x</th>\n",
       "      <th>normalised_score_y</th>\n",
       "      <th>final_score</th>\n",
       "    </tr>\n",
       "  </thead>\n",
       "  <tbody>\n",
       "    <tr>\n",
       "      <th>0</th>\n",
       "      <td>Footwear Mens</td>\n",
       "      <td>0.238041</td>\n",
       "      <td>0.087021</td>\n",
       "      <td>0.177633</td>\n",
       "    </tr>\n",
       "    <tr>\n",
       "      <th>3</th>\n",
       "      <td>Clothing Mens</td>\n",
       "      <td>0.147102</td>\n",
       "      <td>0.087104</td>\n",
       "      <td>0.123103</td>\n",
       "    </tr>\n",
       "    <tr>\n",
       "      <th>6</th>\n",
       "      <td>Books Non-Fiction</td>\n",
       "      <td>0.095347</td>\n",
       "      <td>0.058901</td>\n",
       "      <td>0.080768</td>\n",
       "    </tr>\n",
       "    <tr>\n",
       "      <th>16</th>\n",
       "      <td>Books Fiction</td>\n",
       "      <td>0.042612</td>\n",
       "      <td>0.044229</td>\n",
       "      <td>0.043259</td>\n",
       "    </tr>\n",
       "    <tr>\n",
       "      <th>9</th>\n",
       "      <td>Home and kitchen Tools</td>\n",
       "      <td>0.046204</td>\n",
       "      <td>0.000000</td>\n",
       "      <td>0.027722</td>\n",
       "    </tr>\n",
       "    <tr>\n",
       "      <th>10</th>\n",
       "      <td>Books Children</td>\n",
       "      <td>0.046204</td>\n",
       "      <td>0.000000</td>\n",
       "      <td>0.027722</td>\n",
       "    </tr>\n",
       "    <tr>\n",
       "      <th>11</th>\n",
       "      <td>Footwear Women</td>\n",
       "      <td>0.045714</td>\n",
       "      <td>0.000000</td>\n",
       "      <td>0.027429</td>\n",
       "    </tr>\n",
       "    <tr>\n",
       "      <th>12</th>\n",
       "      <td>Home and kitchen Furnishing</td>\n",
       "      <td>0.045061</td>\n",
       "      <td>0.000000</td>\n",
       "      <td>0.027037</td>\n",
       "    </tr>\n",
       "    <tr>\n",
       "      <th>13</th>\n",
       "      <td>Clothing Kids</td>\n",
       "      <td>0.043592</td>\n",
       "      <td>0.000000</td>\n",
       "      <td>0.026155</td>\n",
       "    </tr>\n",
       "    <tr>\n",
       "      <th>14</th>\n",
       "      <td>Footwear Kids</td>\n",
       "      <td>0.043429</td>\n",
       "      <td>0.000000</td>\n",
       "      <td>0.026057</td>\n",
       "    </tr>\n",
       "    <tr>\n",
       "      <th>15</th>\n",
       "      <td>Electronics Mobiles</td>\n",
       "      <td>0.043102</td>\n",
       "      <td>0.000000</td>\n",
       "      <td>0.025861</td>\n",
       "    </tr>\n",
       "    <tr>\n",
       "      <th>19</th>\n",
       "      <td>Home and kitchen Bath</td>\n",
       "      <td>0.041633</td>\n",
       "      <td>0.000000</td>\n",
       "      <td>0.024980</td>\n",
       "    </tr>\n",
       "    <tr>\n",
       "      <th>20</th>\n",
       "      <td>Electronics Computers</td>\n",
       "      <td>0.041306</td>\n",
       "      <td>0.000000</td>\n",
       "      <td>0.024784</td>\n",
       "    </tr>\n",
       "    <tr>\n",
       "      <th>21</th>\n",
       "      <td>Electronics Personal Appliances</td>\n",
       "      <td>0.040490</td>\n",
       "      <td>0.000000</td>\n",
       "      <td>0.024294</td>\n",
       "    </tr>\n",
       "    <tr>\n",
       "      <th>22</th>\n",
       "      <td>Books Comics</td>\n",
       "      <td>0.040163</td>\n",
       "      <td>0.000000</td>\n",
       "      <td>0.024098</td>\n",
       "    </tr>\n",
       "  </tbody>\n",
       "</table>\n",
       "</div>"
      ],
      "text/plain": [
       "                       product_code  normalised_score_x  normalised_score_y  \\\n",
       "0                     Footwear Mens            0.238041            0.087021   \n",
       "3                     Clothing Mens            0.147102            0.087104   \n",
       "6                 Books Non-Fiction            0.095347            0.058901   \n",
       "16                    Books Fiction            0.042612            0.044229   \n",
       "9            Home and kitchen Tools            0.046204            0.000000   \n",
       "10                   Books Children            0.046204            0.000000   \n",
       "11                   Footwear Women            0.045714            0.000000   \n",
       "12      Home and kitchen Furnishing            0.045061            0.000000   \n",
       "13                    Clothing Kids            0.043592            0.000000   \n",
       "14                    Footwear Kids            0.043429            0.000000   \n",
       "15              Electronics Mobiles            0.043102            0.000000   \n",
       "19            Home and kitchen Bath            0.041633            0.000000   \n",
       "20            Electronics Computers            0.041306            0.000000   \n",
       "21  Electronics Personal Appliances            0.040490            0.000000   \n",
       "22                     Books Comics            0.040163            0.000000   \n",
       "\n",
       "    final_score  \n",
       "0      0.177633  \n",
       "3      0.123103  \n",
       "6      0.080768  \n",
       "16     0.043259  \n",
       "9      0.027722  \n",
       "10     0.027722  \n",
       "11     0.027429  \n",
       "12     0.027037  \n",
       "13     0.026155  \n",
       "14     0.026057  \n",
       "15     0.025861  \n",
       "19     0.024980  \n",
       "20     0.024784  \n",
       "21     0.024294  \n",
       "22     0.024098  "
      ]
     },
     "execution_count": 27,
     "metadata": {},
     "output_type": "execute_result"
    }
   ],
   "source": [
    "user_id=266783\n",
    "top_n=15\n",
    "hybrid_recom=hybrid_method_recom(user_id,top_n)\n",
    "hybrid_recom"
   ]
  },
  {
   "cell_type": "code",
   "execution_count": 28,
   "id": "5864eb93",
   "metadata": {},
   "outputs": [],
   "source": [
    "#accuracy check\n",
    "from sklearn.model_selection import train_test_split\n",
    "transaction_master_bi_train,transaction_master_bi_test=train_test_split(transaction_master_bi,test_size=0.25,random_state=42)"
   ]
  },
  {
   "cell_type": "code",
   "execution_count": 29,
   "id": "bef926a5",
   "metadata": {},
   "outputs": [],
   "source": [
    "from sklearn.feature_extraction.text import TfidfVectorizer\n",
    "from sklearn.metrics.pairwise import linear_kernel\n",
    "Product_purchase_train=transaction_master_bi_train.groupby(['prod_subcat','prod_cat']).agg({'transaction_id': 'nunique','cust_id': 'nunique','Qty':'sum','user_aov':'mean'}).reset_index()\n",
    "Product_purchase_train.rename(columns = {'transaction_id':'unique_orders','cust_id':'users','Qty':'tot_orders','user_aov':'unit_price'},inplace=True)\n",
    "Product_Master_bi_train=pd.merge(left=prod_cat_info, right=Product_purchase_train,how='left',left_on=['prod_cat','prod_subcat'],right_on=['prod_cat','prod_subcat'])\n",
    "Product_Master_bi_train['product_code']=Product_Master_bi_train.apply(lambda row: str(row['prod_cat']) +' '+ str(row['prod_subcat']), axis=1)\n",
    "platform_orders_train=sum(Product_Master_bi_train['tot_orders'])\n",
    "Product_Master_bi_train['order_percentage']=Product_Master_bi_train['tot_orders']/platform_orders\n",
    "Product_Master_bi_train['content'] = Product_Master_bi_train['product_code']\n",
    "# Create TF-IDF matrix\n",
    "tfidf_vectorizer = TfidfVectorizer(stop_words='english')\n",
    "tfidf_matrix = tfidf_vectorizer.fit_transform(Product_Master_bi['content'])\n",
    "\n",
    "# Compute the cosine similarity\n",
    "cosine_sim = linear_kernel(tfidf_matrix, tfidf_matrix)\n",
    "product_mapping = {}\n",
    "for idx, row in Product_Master_bi_train.iterrows():\n",
    "    product_mapping[(row['product_code'])] = idx"
   ]
  },
  {
   "cell_type": "code",
   "execution_count": 30,
   "id": "dacd6f70",
   "metadata": {},
   "outputs": [],
   "source": [
    "customer_purchase_train=transaction_master_bi_train.groupby(['cust_id','prod_cat','prod_subcat']).agg({'transaction_id': 'nunique','Qty':'sum','total_amt':'mean','user_aov':'mean'}).reset_index()\n",
    "customer_purchase_train.rename(columns = {'transaction_id':'unique_orders','Qty':'tot_orders','total_amt':'aov','user_aov':'unit_price'},inplace=True)\n",
    "customer_purchase_train['product_code']=customer_purchase_train.apply(lambda row: str(row['prod_cat']) +' '+ str(row['prod_subcat']), axis=1)"
   ]
  },
  {
   "cell_type": "code",
   "execution_count": 31,
   "id": "35757e7c",
   "metadata": {},
   "outputs": [],
   "source": [
    "def get_similar_products_accuracy(product_info, cosine_sim=cosine_sim):\n",
    "    product_indices = [product_mapping.get((product_code), -1) for product_code in product_info]\n",
    "    product_indices = [idx for idx in product_indices if idx != -1]  # Remove -1 (not found) from the list\n",
    "    all_recommendations = []\n",
    "\n",
    "    for product_index in product_indices:\n",
    "        sim_scores = list(enumerate(cosine_sim[product_index]))\n",
    "        sim_scores = sorted(sim_scores, key=lambda x: x[1], reverse=True)\n",
    "        sim_scores = sim_scores[0:]\n",
    "        indices = [index for index, _ in sim_scores]\n",
    "        recommendations = Product_Master_bi_train.iloc[indices].copy()\n",
    "        recommendations['sim_score'] = [sim_score for _, sim_score in sim_scores]  # Add sim_score column\n",
    "        all_recommendations.append(recommendations)\n",
    "    final_df=pd.concat(all_recommendations, ignore_index=True)\n",
    "    net_score=final_df.groupby('product_code').sum()['sim_score'].to_frame().reset_index()\n",
    "    recom=pd.merge(left=final_df, right=net_score,how='left',left_on=['product_code'],right_on=['product_code'])\n",
    "    recom.drop(columns='sim_score_x',inplace=True)\n",
    "    recom.drop_duplicates(inplace=True)\n",
    "    return recom"
   ]
  },
  {
   "cell_type": "code",
   "execution_count": 32,
   "id": "a01e5bd6",
   "metadata": {},
   "outputs": [],
   "source": [
    "def user_recommendation_accuracy(user_id,top_n=10):\n",
    "    user_data=customer_purchase_train[customer_purchase_train['cust_id']==user_id]\n",
    "    user_unit_price_avg=sum(user_data['aov']*user_data['unique_orders'])/sum(user_data['tot_orders'])\n",
    "    user_products=list(user_data['product_code'].unique())\n",
    "    similar_products=get_similar_products_accuracy(user_products, cosine_sim=cosine_sim)\n",
    "    similar_products['product_score']=similar_products['order_percentage']+similar_products['sim_score_y']\n",
    "    similar_products['net_score'] = similar_products.apply(lambda row: row['product_score'] + 0.3 if (row['unit_price'] >=0.7*user_unit_price_avg) & (row['unit_price']<=1.3*user_unit_price_avg) else row['product_score'], axis=1)\n",
    "    sorted_similar_products = similar_products.sort_values(by='net_score',ascending=False)\n",
    "    recommended_products=sorted_similar_products[['product_code','product_score']]\n",
    "    return recommended_products.head(top_n)"
   ]
  },
  {
   "cell_type": "code",
   "execution_count": 33,
   "id": "fd8719cb",
   "metadata": {},
   "outputs": [],
   "source": [
    "def hybrid_method_recom_accuracy(user_id,top_n):\n",
    "    product_recommendation_content=user_recommendation_accuracy(user_id,top_n).reset_index()\n",
    "    product_recommendation_collabarative=get_recommendations(user_id,user_similarity_df_train,user_item_matrix_train,top_n)\n",
    "    product_recommendation_content.drop(columns='index',axis=1,inplace=True)\n",
    "    product_recommendation_collabarative.rename(columns = {'score':'product_score'}, inplace = True)\n",
    "    print(product_recommendation_content.columns)\n",
    "    n1=sum(product_recommendation_collabarative['product_score'])\n",
    "    n2=sum(product_recommendation_content['product_score'])\n",
    "    product_recommendation_content['normalised_score']=product_recommendation_content['product_score']/n2\n",
    "    product_recommendation_collabarative['normalised_score']=product_recommendation_collabarative['product_score']/n1\n",
    "    combined = pd.merge(product_recommendation_collabarative, product_recommendation_content, on='product_code', how='outer')\n",
    "    combined.fillna(0,inplace=True)\n",
    "    combined.drop(columns=['product_score_y','product_score_x'],axis=1,inplace=True)\n",
    "    combined.drop_duplicates(inplace=True)\n",
    "    combined['final_score']=combined['normalised_score_x']*0.5+combined['normalised_score_y']*0.5\n",
    "    all_recom=combined.sort_values(by='final_score',ascending=False)\n",
    "    recommendations=all_recom.head(top_n)\n",
    "    return recommendations\n",
    "\n"
   ]
  },
  {
   "cell_type": "code",
   "execution_count": 34,
   "id": "e180b75f",
   "metadata": {
    "scrolled": true
   },
   "outputs": [
    {
     "ename": "NameError",
     "evalue": "name 'cust_ids_to_evaluate' is not defined",
     "output_type": "error",
     "traceback": [
      "\u001b[0;31m---------------------------------------------------------------------------\u001b[0m",
      "\u001b[0;31mNameError\u001b[0m                                 Traceback (most recent call last)",
      "\u001b[0;32m/var/folders/4x/bhr05fqs1xq2l403bnmgyvf00000gn/T/ipykernel_90521/306991295.py\u001b[0m in \u001b[0;36m<module>\u001b[0;34m\u001b[0m\n\u001b[1;32m      4\u001b[0m \u001b[0mf1_scores\u001b[0m \u001b[0;34m=\u001b[0m \u001b[0;34m[\u001b[0m\u001b[0;34m]\u001b[0m\u001b[0;34m\u001b[0m\u001b[0;34m\u001b[0m\u001b[0m\n\u001b[1;32m      5\u001b[0m \u001b[0maverage_precision_scores\u001b[0m \u001b[0;34m=\u001b[0m \u001b[0;34m[\u001b[0m\u001b[0;34m]\u001b[0m\u001b[0;34m\u001b[0m\u001b[0;34m\u001b[0m\u001b[0m\n\u001b[0;32m----> 6\u001b[0;31m \u001b[0;32mfor\u001b[0m \u001b[0muser_id\u001b[0m \u001b[0;32min\u001b[0m \u001b[0mcust_ids_to_evaluate\u001b[0m\u001b[0;34m:\u001b[0m\u001b[0;34m\u001b[0m\u001b[0;34m\u001b[0m\u001b[0m\n\u001b[0m\u001b[1;32m      7\u001b[0m     \u001b[0mRecommendations\u001b[0m \u001b[0;34m=\u001b[0m\u001b[0mhybrid_method_recom_accuracy\u001b[0m\u001b[0;34m(\u001b[0m\u001b[0muser_id\u001b[0m\u001b[0;34m,\u001b[0m\u001b[0mtop_n\u001b[0m\u001b[0;34m=\u001b[0m\u001b[0;36m10\u001b[0m\u001b[0;34m)\u001b[0m\u001b[0;34m\u001b[0m\u001b[0;34m\u001b[0m\u001b[0m\n\u001b[1;32m      8\u001b[0m     \u001b[0mactual_purchases_for_user\u001b[0m \u001b[0;34m=\u001b[0m\u001b[0mlist\u001b[0m\u001b[0;34m(\u001b[0m\u001b[0mset\u001b[0m\u001b[0;34m(\u001b[0m\u001b[0mactual_test_set\u001b[0m\u001b[0;34m.\u001b[0m\u001b[0mget\u001b[0m\u001b[0;34m(\u001b[0m\u001b[0muser_id\u001b[0m\u001b[0;34m,\u001b[0m \u001b[0;34m[\u001b[0m\u001b[0;34m]\u001b[0m\u001b[0;34m)\u001b[0m\u001b[0;34m)\u001b[0m\u001b[0;34m)\u001b[0m\u001b[0;34m\u001b[0m\u001b[0;34m\u001b[0m\u001b[0m\n",
      "\u001b[0;31mNameError\u001b[0m: name 'cust_ids_to_evaluate' is not defined"
     ]
    }
   ],
   "source": [
    "from sklearn.metrics import precision_score, recall_score, f1_score, average_precision_score\n",
    "precision_scores = []\n",
    "recall_scores = []\n",
    "f1_scores = []\n",
    "average_precision_scores = []\n",
    "for user_id in cust_ids_to_evaluate:\n",
    "    Recommendations =hybrid_method_recom_accuracy(user_id,top_n=10)\n",
    "    actual_purchases_for_user =list(set(actual_test_set.get(user_id, [])))\n",
    "    predicted_purchases_for_user = Recommendations['product_code'].tolist()\n",
    "\n",
    "    # True labels for the user\n",
    "    true_labels = [1 if prod_code in actual_purchases_for_user else 0 for prod_code in actual_test_set[user_id]]\n",
    "\n",
    "    # Predicted scores for the recommendations\n",
    "    predicted_scores = [1 if prod_code in predicted_purchases_for_user else 0 for prod_code in actual_test_set[user_id]]\n",
    "\n",
    "    # Calculate precision, recall, F1-score, and average precision\n",
    "    precision = precision_score(true_labels, predicted_scores)\n",
    "    recall = recall_score(true_labels, predicted_scores)\n",
    "    f1 = f1_score(true_labels, predicted_scores)\n",
    "    average_precision = average_precision_score(true_labels, predicted_scores)\n",
    "\n",
    "    precision_scores.append(precision)\n",
    "    recall_scores.append(recall)\n",
    "    f1_scores.append(f1)\n",
    "    average_precision_scores.append(average_precision)\n",
    "\n",
    "# Calculate the mean scores across users\n",
    "mean_precision = sum(precision_scores) / len(precision_scores)\n",
    "mean_recall = sum(recall_scores) / len(recall_scores)\n",
    "mean_f1 = sum(f1_scores) / len(f1_scores)\n",
    "mean_average_precision = sum(average_precision_scores) / len(average_precision_scores)\n",
    "print(f\"Mean Precision: {mean_precision:.4f}\")\n",
    "print(f\"Mean Recall: {mean_recall:.4f}\")\n",
    "print(f\"Mean F1-Score: {mean_f1:.4f}\")\n",
    "print(f\"Mean Average Precision: {mean_average_precision:.4f}\")"
   ]
  },
  {
   "cell_type": "code",
   "execution_count": null,
   "id": "28cebdd6",
   "metadata": {},
   "outputs": [],
   "source": [
    "print(product_recommendation_content.columns)\n"
   ]
  },
  {
   "cell_type": "code",
   "execution_count": null,
   "id": "dbba8eb4",
   "metadata": {},
   "outputs": [],
   "source": []
  }
 ],
 "metadata": {
  "kernelspec": {
   "display_name": "Python 3 (ipykernel)",
   "language": "python",
   "name": "python3"
  },
  "language_info": {
   "codemirror_mode": {
    "name": "ipython",
    "version": 3
   },
   "file_extension": ".py",
   "mimetype": "text/x-python",
   "name": "python",
   "nbconvert_exporter": "python",
   "pygments_lexer": "ipython3",
   "version": "3.9.13"
  }
 },
 "nbformat": 4,
 "nbformat_minor": 5
}
